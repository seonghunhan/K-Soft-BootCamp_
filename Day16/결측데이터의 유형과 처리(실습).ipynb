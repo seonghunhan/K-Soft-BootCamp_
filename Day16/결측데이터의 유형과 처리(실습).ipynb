{
  "cells": [
    {
      "cell_type": "markdown",
      "metadata": {},
      "source": [
        "## **1. 환경 설정**\n",
        "\n",
        "- Anaconda가 깔려 있음을 전제로 함.\n",
        "\n",
        "#### **1) 가상환경 생성 및 활성화**  \n",
        "- 명령프롬프트를 키고 다음 명령을 입력\n",
        "    \n",
        "```python\n",
        "    conda create -n '가상환경이름' python=3.7\n",
        "```\n",
        "- 가상환경을 생성한 후 활성화\n",
        "```python\n",
        "    conda activate '가상환경이름'\n",
        "```\n",
        "\n",
        "#### **2) 필요한 패키지 설치** \n",
        "```python\n",
        "    pip install -r requirements.txt\n",
        "```\n",
        "\n",
        "#### **3) 가상환경 사용**\n",
        "- vscode의 우상단을 클릭하여 방금 생성한 가상환경을 선택\n"
      ]
    },
    {
      "cell_type": "code",
      "execution_count": null,
      "metadata": {
        "collapsed": false
      },
      "outputs": [],
      "source": [
        "%matplotlib inline"
      ]
    },
    {
      "cell_type": "markdown",
      "metadata": {},
      "source": [
        "\n",
        "## **2. Imputing missing values before building an estimator**\n",
        "\n",
        "- 결측치를 치환하기 위해서는 다양한 방법이 있는데, 다음과 같이 크게 5가지 방법으로 결측치를 처리한다.\n",
        "\n",
        "    1. 결측치에 대해서 아무것도 수행하지 않음\n",
        "    2. 최빈값이나 0 혹은 상수등으로 결측치를 치환\n",
        "    3. 평균값, 중앙값 등을 이용하여 결측치를 치환\n",
        "    4. KNN 알고리즘을 이용하여 최대한 비슷한 경우의 값으로 결측치를 치환\n",
        "    5. MICE(Multivariate Imputation by Chained Equation) Algorithm을 이용하여 결측치를 치환\n",
        "\n",
        "- 따라서 우리는 2개의 데이터셋을 사용하여 위와 같은 기법들을 수행해보고자 한다. 사용하고자 하는 데이터셋은 다음과 같다.\n",
        "\n",
        "    1. 당뇨병 진행을 예측하기 위한 목적으로 당뇨병 환자로부터 수집된 10개의 feature 변수로 구성된 `당뇨병 데이터셋`\n",
        "    2. 캘리포니아 지역의 중간 집값을 추정하는 것을 목표로하는 `캘리포니아 주택 데이터셋`\n",
        "\n",
        "- 위의 두 데이터는 결측치를 가지고 있지 않다. 따라서 일부 값을 제거하여 인위적으로 누락된 데이터가 있는 새 버전을 만들어 사용하도록 한다.\n",
        "- 그리고나서 전체 원본 데이터셋과 서로 다른 결측치 대치 방법들을 사용하여 결측값들을 채운 데이터셋에 `sklearn.ensemble.RandomForestRegressor`을 적용하여 서로 성능을 비교해본다."
      ]
    },
    {
      "cell_type": "markdown",
      "metadata": {},
      "source": [
        "## **3. Download the data and make missing values sets**\n",
        "\n",
        " - `당뇨병 데이터셋`은 scikit-learn에서 제공된다. 이 데이터셋은 442개의 엔트리를 가지고 있으며, 10개의 feature를 가지고 있다. \n",
        " - `캘리포니아 데이터셋`은 20640개의 엔트리를 가지고 있으며 8개의 feature를 가지고 있다. \n",
        " - 연산의 속도를 위해 각 데이터셋에서 300개의 데이터만 사용하도록 한다.\n",
        " \n",
        "\n",
        "\n"
      ]
    },
    {
      "cell_type": "code",
      "execution_count": null,
      "metadata": {
        "collapsed": false
      },
      "outputs": [],
      "source": [
        "import numpy as np\n",
        "import pandas as pd\n",
        "\n",
        "from sklearn.datasets import fetch_california_housing\n",
        "from sklearn.datasets import load_diabetes\n",
        "\n",
        "\n",
        "rng = np.random.RandomState(42)\n",
        "\n",
        "# Data Loading diabets데이터셋과 california housing datasets을 가져온다\n",
        "X_diabetes, y_diabetes = load_diabetes(return_X_y=True, as_frame=True) # load biabetes datasets\n",
        "X_california, y_california = fetch_california_housing(return_X_y=True, as_frame=True) # load california housing datasets\n",
        "\n",
        "# 각각의 데이터 셋에서 독립변수와 종속변수 300개를 가져온다.\n",
        "X_california = X_california[:300]\n",
        "y_california = y_california[:300]\n",
        "X_diabetes = X_diabetes[:300]\n",
        "y_diabetes = y_diabetes[:300]\n",
        "\n",
        "# X_full과 y_full 데이터에서 75%의 데이터에 결측치를 만드는 함수이다.\n",
        "def add_missing_values(X_full, y_full):\n",
        "    n_samples, n_features = X_full.shape\n",
        "\n",
        "    # Add missing values in 25% of the lines\n",
        "    MISSING_RATE = 0.25\n",
        "    n_missing_samples = int(n_samples * MISSING_RATE)\n",
        "\n",
        "    missing_samples = np.zeros(n_samples, dtype=bool)\n",
        "    missing_samples[:n_missing_samples] = True\n",
        "\n",
        "    rng.shuffle(missing_samples)\n",
        "    missing_features = rng.randint(0, n_features, n_missing_samples) # n개의 feature에서 어떤 feature에 결측치를 채워줄 지 인덱스를 결정\n",
        "    X_missing = X_full.copy()\n",
        "    \n",
        "    X_missing.iloc[missing_samples, missing_features] = np.nan # 주어진 위치에 np.nan 삽입\n",
        "    y_missing = y_full.copy()\n",
        "\n",
        "    return X_missing, y_missing\n",
        "\n",
        "# 결측치를 가진 데이터 셋을 생성한 후 저장\n",
        "X_miss_california, y_miss_california = add_missing_values(X_california, y_california)\n",
        "X_miss_diabetes, y_miss_diabetes = add_missing_values(X_diabetes, y_diabetes)\n",
        "print(X_miss_california.shape, y_miss_california.shape)\n",
        "print(X_miss_diabetes.shape, y_miss_diabetes.shape)"
      ]
    },
    {
      "cell_type": "markdown",
      "metadata": {},
      "source": [
        "## **4. Impute the missing data and score**\n",
        "\n",
        "- `sklearn.impute`에서 제공하는 Imputer를 이용하여 결측치를 대치함(`Simple Imputer`, `KNN Imputer`, `Iterative Imputer`)\n",
        "- 서로 다른 결측치 대치 data의 score를 구하는 함수를 작성한다.\n",
        "\n",
        "\n"
      ]
    },
    {
      "cell_type": "code",
      "execution_count": null,
      "metadata": {
        "collapsed": false
      },
      "outputs": [],
      "source": [
        "rng = np.random.RandomState(0)\n",
        "\n",
        "# 필요한 라이브러리 import\n",
        "from sklearn.ensemble import RandomForestRegressor\n",
        "\n",
        "# To use the experimental IterativeImputer, we need to explicitly ask for it:\n",
        "from sklearn.experimental import enable_iterative_imputer  # noqa\n",
        "from sklearn.impute import SimpleImputer, KNNImputer, IterativeImputer\n",
        "from sklearn.model_selection import cross_val_score\n",
        "from sklearn.pipeline import make_pipeline\n",
        "\n",
        "# 교차 검증 시 폴드를 4개로 나누어서 \n",
        "N_SPLITS = 4\n",
        "\n",
        "# estimator로 랜덤포레스트회귀 모델을 사용\n",
        "regressor = RandomForestRegressor(random_state=0) "
      ]
    },
    {
      "cell_type": "code",
      "execution_count": null,
      "metadata": {},
      "outputs": [],
      "source": [
        "# 파라미터로 imputer, 독립변수, 종속변수가 주어지며 negative mean square error값을 return한다.\n",
        "def get_scores_for_imputer(imputer, X_missing, y_missing):\n",
        "    estimator = make_pipeline(imputer, regressor) # imputer 적용 후 regressor 사용\n",
        "    impute_scores = cross_val_score(\n",
        "        estimator, X_missing, y_missing, scoring=\"neg_mean_squared_error\", cv=N_SPLITS\n",
        "    )\n",
        "    return impute_scores\n",
        "\n",
        "# 각 데이터셋 score의 라벨을 저장\n",
        "x_labels = []\n",
        "\n",
        "# 각 데이터셋의 score 평균, 표준편차를 저장\n",
        "mses_california = np.zeros(6)\n",
        "stds_california = np.zeros(6)\n",
        "mses_diabetes = np.zeros(6)\n",
        "stds_diabetes = np.zeros(6)"
      ]
    },
    {
      "cell_type": "markdown",
      "metadata": {},
      "source": [
        "## **5. Estimate the score**\n",
        "\n",
        "- 다음과 같은 순서로 각각의 데이터에 대해서 score 추정을 진행한다.\n",
        "\n",
        "    1. 원본데이터의 score 추정\n",
        "    2. 결측치가 있는 데이터들을 삭제한 후 남은 데이터를 이용한 score 추정\n",
        "    3. 상수 0으로 결측치를 치환한 데이터의 score 추정\n",
        "    4. 평균값을 이용하여 결측치를 치환한 데이터의 score 추정\n",
        "    5. KNN을 이용하여 결측치를 치환한 데이터의 score 추정\n",
        "    6. MICE(Multivariate Imputation by Chained Equation) Algorithm을 이용하여 결측치를 치환한 데이터의 score 추정\n",
        "    "
      ]
    },
    {
      "cell_type": "markdown",
      "metadata": {},
      "source": [
        "### 1) 원본데이터의 score 추정"
      ]
    },
    {
      "cell_type": "code",
      "execution_count": null,
      "metadata": {
        "collapsed": false
      },
      "outputs": [],
      "source": [
        "def get_full_score(X_full, y_full):\n",
        "    full_scores = cross_val_score( #Model, X_full, y_full, score, 4개로 나눈다.\n",
        "        regressor, X_full, y_full, scoring=\"neg_mean_squared_error\", cv=N_SPLITS\n",
        "    )\n",
        "    return full_scores.mean(), full_scores.std()\n",
        "\n",
        "mses_california[0], stds_california[0] = get_full_score(X_california, y_california)\n",
        "mses_diabetes[0], stds_diabetes[0] = get_full_score(X_diabetes, y_diabetes)\n",
        "x_labels.append(\"Full data\")\n"
      ]
    },
    {
      "cell_type": "markdown",
      "metadata": {},
      "source": [
        "### 2) 결측치가 있는 데이터들을 삭제한 후 남은 데이터를 이용한 score 추정\n",
        "- estimator에 데이터를 넣을 때 결측치가 존재하면 error가 발생한다. 따라서 결측치들을 제거하고 estimator에 넣어 score를 측정하도록 한다."
      ]
    },
    {
      "cell_type": "code",
      "execution_count": null,
      "metadata": {},
      "outputs": [],
      "source": [
        "# 각 데이터셋에서 nan값을 가지고 있는 데이터들의 row index를 저장\n",
        "cal_nan_index = X_miss_california.dropna(axis='index', how='all').index\n",
        "y_miss_cal =y_miss_california[cal_nan_index]\n",
        "\n",
        "dia_nan_index = X_miss_diabetes.dropna(axis='index', how='all').index\n",
        "y_miss_dia =y_miss_diabetes[dia_nan_index]\n"
      ]
    },
    {
      "cell_type": "code",
      "execution_count": null,
      "metadata": {},
      "outputs": [],
      "source": [
        "# 결측치를 포함한 데이터를 copy하면서 결측치들을 제거\n",
        "X_miss_cal =X_miss_california.dropna(axis='index', how='all' )\n",
        "\n",
        "X_miss_dia =X_miss_diabetes.dropna(axis='index', how='all')\n"
      ]
    },
    {
      "cell_type": "code",
      "execution_count": null,
      "metadata": {},
      "outputs": [],
      "source": [
        "def get_remove_scores(X_missing,y_missing):\n",
        "    estimator = regressor\n",
        "    scores = cross_val_score(\n",
        "        estimator, X_missing, y_missing, scoring=\"neg_mean_squared_error\", cv=N_SPLITS\n",
        "    )\n",
        "    return scores\n",
        "\n",
        "cal_scores = get_remove_scores(X_miss_cal,y_miss_cal)\n",
        "dia_scores = get_remove_scores(X_miss_dia,y_miss_dia)\n",
        "x_labels.append(\"Remove missing value\")\n",
        "\n",
        "mses_california[1] = cal_scores.mean()\n",
        "stds_california[1] = cal_scores.std()\n",
        "\n",
        "mses_diabetes[1] = dia_scores.mean()\n",
        "stds_diabetes[1] = dia_scores.std()"
      ]
    },
    {
      "cell_type": "markdown",
      "metadata": {},
      "source": [
        "### 3) 상수 0으로 결측치를 치환한 데이터의 score 추정\n",
        "- [SimpleImputer](https://scikit-learn.org/stable/modules/generated/sklearn.impute.SimpleImputer.html)를 이용하여 결측치를 0으로 채운다.\n",
        "\n",
        "\n"
      ]
    },
    {
      "cell_type": "code",
      "execution_count": null,
      "metadata": {
        "collapsed": false
      },
      "outputs": [],
      "source": [
        "def get_impute_zero_score(X_missing, y_missing):\n",
        "    # SimpleImputer, strategy를 'constant'로 지정하고 fill_value를 '0'으로 지정하면 결측치를 0으로 채운다.\n",
        "    # fill_value에 원하는 상수를 입력하여 해당 값으로 결측치를 대치할 수 있다.(string or numeric data)\n",
        "    imputer = SimpleImputer(\n",
        "        missing_values=np.nan, add_indicator=True, strategy=\"constant\", fill_value=0\n",
        "    )\n",
        "    zero_impute_scores = get_scores_for_imputer(imputer, X_missing, y_missing)\n",
        "    return zero_impute_scores.mean(), zero_impute_scores.std()\n",
        "\n",
        "\n",
        "mses_california[2], stds_california[2] = get_impute_zero_score(\n",
        "    X_miss_california, y_miss_california\n",
        ")\n",
        "mses_diabetes[2], stds_diabetes[2] = get_impute_zero_score(\n",
        "    X_miss_diabetes, y_miss_diabetes\n",
        ")\n",
        "x_labels.append(\"Zero imputation\")"
      ]
    },
    {
      "cell_type": "markdown",
      "metadata": {},
      "source": [
        "### 4) 평균값을 이용하여 결측치를 치환한 데이터의 score 추정\n",
        "- [SimpleImputer](https://scikit-learn.org/stable/modules/generated/sklearn.impute.SimpleImputer.html)를 이용하여 결측치가 포함된 column의 평균값으로 결측치들을 대치한다.\n",
        "\n",
        "\n"
      ]
    },
    {
      "cell_type": "code",
      "execution_count": null,
      "metadata": {
        "collapsed": false
      },
      "outputs": [],
      "source": [
        "def get_impute_mean(X_missing, y_missing):\n",
        "    # SimpleImputer, strategy를 'mean'으로 지정하면 결측치들을 해당 column의 평균값으로 대치한다.\n",
        "    # strategy에 'mean':평균,'median':중간값,'most_frequent':최빈값 등 다양한 방법을 적용하여 값을 대치할 수 있다.\n",
        "    imputer = SimpleImputer(missing_values=np.nan, strategy=\"mean\", add_indicator=True)\n",
        "    mean_impute_scores = get_scores_for_imputer(imputer, X_missing, y_missing)\n",
        "    return mean_impute_scores.mean(), mean_impute_scores.std()\n",
        "\n",
        "mses_california[3], stds_california[3] = get_impute_mean(\n",
        "    X_miss_california, y_miss_california\n",
        ")\n",
        "mses_diabetes[3], stds_diabetes[3] = get_impute_mean(X_miss_diabetes, y_miss_diabetes)\n",
        "x_labels.append(\"Mean Imputation\")"
      ]
    },
    {
      "cell_type": "markdown",
      "metadata": {},
      "source": [
        "### 5) KNN을 이용하여 결측치를 치환한 데이터의 score 추정\n",
        "- [KNNImputer](https://scikit-learn.org/stable/modules/generated/sklearn.impute.KNNImputer.html)를 이용한다.\n",
        "- 각 샘플의 결측값은 train set에서 가장 가까운 k개의 이웃의 평균값을 사용하여 대치한다.\n",
        "\n",
        "\n",
        "\n"
      ]
    },
    {
      "cell_type": "code",
      "execution_count": null,
      "metadata": {
        "collapsed": false
      },
      "outputs": [],
      "source": [
        "def get_impute_knn_score(X_missing, y_missing):\n",
        "    # n_neighbors 파라미터를 통해서 가장 가까운 이웃의 수를 정할 수 있다.(현재 default값인 5로 지정되어 있음)\n",
        "    imputer = KNNImputer(missing_values=np.nan, add_indicator=True)\n",
        "    knn_impute_scores = get_scores_for_imputer(imputer, X_missing, y_missing)\n",
        "    return knn_impute_scores.mean(), knn_impute_scores.std()\n",
        "\n",
        "mses_california[4], stds_california[4] = get_impute_knn_score(\n",
        "    X_miss_california, y_miss_california\n",
        ")\n",
        "mses_diabetes[4], stds_diabetes[4] = get_impute_knn_score(\n",
        "    X_miss_diabetes, y_miss_diabetes\n",
        ")\n",
        "x_labels.append(\"KNN Imputation\")"
      ]
    },
    {
      "cell_type": "markdown",
      "metadata": {},
      "source": [
        "### 6) MICE(Multivariate Imputation by Chained Equation)을 이용하여 결측치를 치환한 데이터의 score 추정\n",
        "\n",
        "- [IterativeImputer](https://scikit-learn.org/stable/modules/generated/sklearn.impute.IterativeImputer.html)를 사용하여 결측치 대치 진행\n",
        "- MICE Algorithm(Multiple Imputation의 한 종류)을 이용하여 나온 값을 이용하여 결측값을 대치한다.\n",
        "\n",
        "\n",
        "\n"
      ]
    },
    {
      "cell_type": "code",
      "execution_count": null,
      "metadata": {
        "collapsed": false
      },
      "outputs": [],
      "source": [
        "def get_impute_iterative(X_missing, y_missing):\n",
        "    # sample_posterior=True로 지정하면 Multiple Imputation과 같은 동작을 수행한다.\n",
        "    imputer = IterativeImputer(\n",
        "        missing_values=np.nan,\n",
        "        add_indicator=True,\n",
        "        random_state=0,\n",
        "        n_nearest_features=3,\n",
        "        max_iter=1,\n",
        "        sample_posterior=True,\n",
        "    )\n",
        "    iterative_impute_scores = get_scores_for_imputer(imputer, X_missing, y_missing)\n",
        "    return iterative_impute_scores.mean(), iterative_impute_scores.std()\n",
        "\n",
        "mses_california[5], stds_california[5] = get_impute_iterative(\n",
        "    X_miss_california, y_miss_california\n",
        ")\n",
        "mses_diabetes[5], stds_diabetes[5] = get_impute_iterative(\n",
        "    X_miss_diabetes, y_miss_diabetes\n",
        ")\n",
        "x_labels.append(\"Iterative Imputation\")"
      ]
    },
    {
      "cell_type": "markdown",
      "metadata": {},
      "source": [
        "- neg_mean_square_error으로 score를 구했으므로 -1을 곱해줌."
      ]
    },
    {
      "cell_type": "code",
      "execution_count": null,
      "metadata": {},
      "outputs": [],
      "source": [
        "mses_diabetes = mses_diabetes * -1\n",
        "mses_california = mses_california * -1"
      ]
    },
    {
      "cell_type": "markdown",
      "metadata": {},
      "source": [
        "## **6. Plot the results**\n",
        "\n",
        "- 각 데이터셋별로 최종 score 확인\n",
        "\n"
      ]
    },
    {
      "cell_type": "code",
      "execution_count": null,
      "metadata": {
        "collapsed": false
      },
      "outputs": [],
      "source": [
        "import matplotlib.pyplot as plt\n",
        "\n",
        "n_bars = len(mses_diabetes)\n",
        "xval = np.arange(n_bars)\n",
        "\n",
        "colors = [\"r\", \"g\", \"b\", \"orange\", \"black\",\"yellow\"]\n",
        "\n",
        "# plot diabetes results\n",
        "plt.figure(figsize=(20, 10))\n",
        "ax1 = plt.subplot(121)\n",
        "for j in xval:\n",
        "    ax1.barh(\n",
        "        j,\n",
        "        mses_diabetes[j],\n",
        "        xerr=stds_diabetes[j],\n",
        "        color=colors[j],\n",
        "        alpha=0.6,\n",
        "        align=\"center\",\n",
        "        capsize=10\n",
        "    )\n",
        "\n",
        "ax1.set_title(\"Imputation Techniques with Diabetes Data\")\n",
        "ax1.set_xlim(left=np.min(mses_diabetes) * 0.9, right=np.max(mses_diabetes) * 1.1)\n",
        "ax1.set_yticks(xval)\n",
        "ax1.set_xlabel(\"MSE\")\n",
        "ax1.invert_yaxis()\n",
        "ax1.set_yticklabels(x_labels)\n",
        "\n",
        "# plot california dataset results\n",
        "ax2 = plt.subplot(122)\n",
        "for j in xval:\n",
        "    ax2.barh(\n",
        "        j,\n",
        "        mses_california[j],\n",
        "        xerr=stds_california[j],\n",
        "        color=colors[j],\n",
        "        alpha=0.6,\n",
        "        align=\"center\",\n",
        "        capsize=10\n",
        "    )\n",
        "\n",
        "ax2.set_title(\"Imputation Techniques with California Data\")\n",
        "ax2.set_yticks(xval)\n",
        "ax2.set_xlabel(\"MSE\")\n",
        "ax2.invert_yaxis()\n",
        "ax2.set_yticklabels([\"\"] * n_bars)\n",
        "\n",
        "plt.show()"
      ]
    },
    {
      "cell_type": "markdown",
      "metadata": {},
      "source": [
        "## **+딥러닝(Datawig)을 이용하여 결측치 대치**"
      ]
    },
    {
      "cell_type": "code",
      "execution_count": null,
      "metadata": {},
      "outputs": [],
      "source": [
        "import seaborn as sns\n",
        "import datawig\n",
        "\n",
        "# Data Loading\n",
        "flights = sns.load_dataset(\"flights\")\n",
        "flights['month'] = flights['month'].astype(str)\n",
        "flights['year'] = flights['year'].astype(str)\n",
        "flights.head()"
      ]
    },
    {
      "cell_type": "code",
      "execution_count": null,
      "metadata": {},
      "outputs": [],
      "source": [
        "# split train set, test set \n",
        "flights_train, flights_test = datawig.utils.random_split(flights)\n",
        "\n",
        "print(f'Train set shape : {flights_train.shape}')\n",
        "print(f'Test set shape : {flights_test.shape}')"
      ]
    },
    {
      "cell_type": "code",
      "execution_count": null,
      "metadata": {},
      "outputs": [],
      "source": [
        "# imputer 선언\n",
        "imputer = datawig.SimpleImputer(\n",
        "    input_columns=['year', 'month'], # 결측값 예측 모델 학습에 사용할 column들\n",
        "    output_column='passengers' # 결측값을 예측하고자 하는 column\n",
        "    )\n",
        "\n",
        "# Training\n",
        "imputer.fit(train_df = flights_train,num_epochs=200,batch_size=32) \n",
        "\n",
        "# Prediction\n",
        "imputed = imputer.predict(flights_test)"
      ]
    },
    {
      "cell_type": "code",
      "execution_count": null,
      "metadata": {},
      "outputs": [],
      "source": [
        "# 결과 확인\n",
        "imputed.reset_index()"
      ]
    }
  ],
  "metadata": {
    "kernelspec": {
      "display_name": "Python 3.9.12 ('aicity')",
      "language": "python",
      "name": "python3"
    },
    "language_info": {
      "codemirror_mode": {
        "name": "ipython",
        "version": 3
      },
      "file_extension": ".py",
      "mimetype": "text/x-python",
      "name": "python",
      "nbconvert_exporter": "python",
      "pygments_lexer": "ipython3",
      "version": "3.9.12"
    },
    "vscode": {
      "interpreter": {
        "hash": "fafe7e8cba34e0f5b136f60d0c03844d601426804fd31a55bd9222d9c9920ec4"
      }
    }
  },
  "nbformat": 4,
  "nbformat_minor": 0
}
